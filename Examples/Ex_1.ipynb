{
  "nbformat": 4,
  "nbformat_minor": 0,
  "metadata": {
    "colab": {
      "provenance": [],
      "gpuType": "T4",
      "authorship_tag": "ABX9TyMLS8ixjQB+WEJZ3feqSU5o",
      "include_colab_link": true
    },
    "kernelspec": {
      "name": "python3",
      "display_name": "Python 3"
    },
    "language_info": {
      "name": "python"
    },
    "accelerator": "GPU"
  },
  "cells": [
    {
      "cell_type": "markdown",
      "metadata": {
        "id": "view-in-github",
        "colab_type": "text"
      },
      "source": [
        "<a href=\"https://colab.research.google.com/github/JoyeBright/domain-adapt-mt/blob/main/Examples/Ex_1.ipynb\" target=\"_parent\"><img src=\"https://colab.research.google.com/assets/colab-badge.svg\" alt=\"Open In Colab\"/></a>"
      ]
    },
    {
      "cell_type": "markdown",
      "source": [
        "In this notebook, we show how to use **[DomainAdapt-MT v1.0.0](https://github.com/JoyeBright/domain-adapt-mt)** to do data selection for training MT models. 😀\n"
      ],
      "metadata": {
        "id": "FYUzN6UbnJll"
      }
    },
    {
      "cell_type": "markdown",
      "source": [
        "## 🌍 Out-of-Domain Data\n",
        "\n",
        "We download a large out-of-domain English–French corpus (**CCAligned v1**) from the [OPUS repository](https://opus.nlpl.eu/CCAligned.php).  \n"
      ],
      "metadata": {
        "id": "QcoIno5CmrGy"
      }
    },
    {
      "cell_type": "code",
      "execution_count": 1,
      "metadata": {
        "colab": {
          "base_uri": "https://localhost:8080/"
        },
        "id": "S9m-kL_Wj63P",
        "outputId": "343a9b93-2522-4df8-9d4c-c4c4b182ca6e"
      },
      "outputs": [
        {
          "output_type": "stream",
          "name": "stdout",
          "text": [
            "--2025-06-13 10:03:59--  https://object.pouta.csc.fi/OPUS-CCAligned/v1/moses/en-fr.txt.zip\n",
            "Resolving object.pouta.csc.fi (object.pouta.csc.fi)... 86.50.254.18, 86.50.254.19\n",
            "Connecting to object.pouta.csc.fi (object.pouta.csc.fi)|86.50.254.18|:443... connected.\n",
            "HTTP request sent, awaiting response... 200 OK\n",
            "Length: 1013655142 (967M) [application/zip]\n",
            "Saving to: ‘en-fr.txt.zip’\n",
            "\n",
            "en-fr.txt.zip       100%[===================>] 966.70M  1.86MB/s    in 4m 10s  \n",
            "\n",
            "2025-06-13 10:08:11 (3.86 MB/s) - ‘en-fr.txt.zip’ saved [1013655142/1013655142]\n",
            "\n"
          ]
        }
      ],
      "source": [
        "!wget  https://object.pouta.csc.fi/OPUS-CCAligned/v1/moses/en-fr.txt.zip"
      ]
    },
    {
      "cell_type": "code",
      "source": [
        "!unzip /content/en-fr.txt.zip"
      ],
      "metadata": {
        "colab": {
          "base_uri": "https://localhost:8080/"
        },
        "id": "KQgg_XEFmp5q",
        "outputId": "f6e2e6eb-7d47-40b2-aefc-c55ce3121697"
      },
      "execution_count": 2,
      "outputs": [
        {
          "output_type": "stream",
          "name": "stdout",
          "text": [
            "Archive:  /content/en-fr.txt.zip\n",
            "  inflating: README                  \n",
            "  inflating: LICENSE                 \n",
            "  inflating: CCAligned.en-fr.en      \n",
            "  inflating: CCAligned.en-fr.fr      \n",
            "  inflating: CCAligned.en-fr.xml     \n"
          ]
        }
      ]
    },
    {
      "cell_type": "markdown",
      "source": [
        "## ⚠️ Downsizing the Out-of-Domain Corpus (for Demo Only)\n",
        "\n",
        "To show how the tool works in environments like Google Colab (which have limited memory), we downsize the OOD corpus.  \n",
        "We randomly sample 4 million sentence pairs from the full CCAligned dataset:"
      ],
      "metadata": {
        "id": "0ykqP2zSupXA"
      }
    },
    {
      "cell_type": "code",
      "source": [
        "!paste /content/CCAligned.en-fr.en /content/CCAligned.en-fr.fr \\\n",
        "  | shuf \\\n",
        "  | head -n 4000000 \\\n",
        "  | tee >(cut -f1 > /content/sample.en) >(cut -f2 > /content/sample.fr)\n"
      ],
      "metadata": {
        "collapsed": true,
        "id": "s1auf5snt8n4"
      },
      "execution_count": null,
      "outputs": []
    },
    {
      "cell_type": "markdown",
      "source": [
        "## 📘 In-Domain Data\n",
        "\n",
        "We use the [Unsupervised Domain Clusters](https://github.com/roeeaharoni/unsupervised-domain-clusters) dataset for in-domain data.\n",
        "For this example, we use only the **IT** domain subset, which we've uploaded to our drive. You can do the same.\n"
      ],
      "metadata": {
        "id": "q_jpf7b3ndx-"
      }
    },
    {
      "cell_type": "code",
      "source": [
        "!unzip /content/multi_domain_new_split.zip -d /content/"
      ],
      "metadata": {
        "colab": {
          "base_uri": "https://localhost:8080/"
        },
        "id": "CJDgA7VZnXMn",
        "outputId": "2783123e-aedf-4ba5-96c1-e3cd337b3db9"
      },
      "execution_count": 7,
      "outputs": [
        {
          "output_type": "stream",
          "name": "stdout",
          "text": [
            "Archive:  /content/multi_domain_new_split.zip\n",
            "   creating: /content/it/\n",
            "   creating: /content/koran/\n",
            "   creating: /content/law/\n",
            "   creating: /content/medical/\n",
            "   creating: /content/subtitles/\n",
            "  inflating: /content/it/dev.de      \n",
            "  inflating: /content/it/dev.en      \n",
            "  inflating: /content/it/test.de     \n",
            "  inflating: /content/it/test.en     \n",
            "  inflating: /content/it/train.de    \n",
            "  inflating: /content/it/train.en    \n",
            "  inflating: /content/koran/dev.de   \n",
            "  inflating: /content/koran/dev.en   \n",
            "  inflating: /content/koran/test.de  \n",
            "  inflating: /content/koran/test.en  \n",
            "  inflating: /content/koran/train.de  \n",
            "  inflating: /content/koran/train.en  \n",
            "  inflating: /content/law/dev.de     \n",
            "  inflating: /content/law/dev.en     \n",
            "  inflating: /content/law/test.de    \n",
            "  inflating: /content/law/test.en    \n",
            "  inflating: /content/law/train.de   \n",
            "  inflating: /content/law/train.en   \n",
            "  inflating: /content/medical/dev.de  \n",
            "  inflating: /content/medical/dev.en  \n",
            "  inflating: /content/medical/test.de  \n",
            "  inflating: /content/medical/test.en  \n",
            "  inflating: /content/medical/train.de  \n",
            "  inflating: /content/medical/train.en  \n",
            "  inflating: /content/subtitles/dev.de  \n",
            "  inflating: /content/subtitles/dev.en  \n",
            "  inflating: /content/subtitles/test.de  \n",
            "  inflating: /content/subtitles/test.en  \n",
            "  inflating: /content/subtitles/train.de  \n",
            "  inflating: /content/subtitles/train.en  \n",
            "  inflating: /content/subtitles/train.full.de  \n",
            "  inflating: /content/subtitles/train.full.en  \n"
          ]
        }
      ]
    },
    {
      "cell_type": "markdown",
      "source": [
        "## 🚀 Run the Data Selection Script\n",
        "\n",
        "Now that we have the required input files, we can use the data selection script from the repository:  \n",
        "👉 [domain-adapt-mt](https://github.com/JoyeBright/domain-adapt-mt)\n",
        "\n",
        "### 📥 Step 1: Download the Script\n",
        "\n",
        "Download the main script directly:\n",
        "[main.py](https://github.com/JoyeBright/domain-adapt-mt/blob/main/main.py)\n",
        "Or\n",
        "You can also clone the full repo if preferred:\n",
        "```bash\n",
        "git clone https://github.com/JoyeBright/domain-adapt-mt.git\n",
        "cd domain-adapt-mt\n"
      ],
      "metadata": {
        "id": "QCS1lkOMqmR9"
      }
    },
    {
      "cell_type": "code",
      "source": [
        "!git clone https://github.com/JoyeBright/domain-adapt-mt.git"
      ],
      "metadata": {
        "colab": {
          "base_uri": "https://localhost:8080/"
        },
        "id": "GHiveY0lqkNZ",
        "outputId": "df72e4a3-9d33-4a92-9505-e3aaffa9c8b2"
      },
      "execution_count": 8,
      "outputs": [
        {
          "output_type": "stream",
          "name": "stdout",
          "text": [
            "Cloning into 'domain-adapt-mt'...\n",
            "remote: Enumerating objects: 15, done.\u001b[K\n",
            "remote: Counting objects: 100% (15/15), done.\u001b[K\n",
            "remote: Compressing objects: 100% (12/12), done.\u001b[K\n",
            "remote: Total 15 (delta 3), reused 0 (delta 0), pack-reused 0 (from 0)\u001b[K\n",
            "Receiving objects: 100% (15/15), 8.53 KiB | 8.53 MiB/s, done.\n",
            "Resolving deltas: 100% (3/3), done.\n"
          ]
        }
      ]
    },
    {
      "cell_type": "code",
      "source": [
        "cd domain-adapt-mt"
      ],
      "metadata": {
        "colab": {
          "base_uri": "https://localhost:8080/"
        },
        "id": "6Pr36joqrCxH",
        "outputId": "7b84b86f-fc54-43d9-bc80-b4b26212b185"
      },
      "execution_count": 9,
      "outputs": [
        {
          "output_type": "stream",
          "name": "stdout",
          "text": [
            "/content/domain-adapt-mt\n"
          ]
        }
      ]
    },
    {
      "cell_type": "code",
      "source": [
        "!python /content/domain-adapt-mt/main.py -ood_src /content/sample.en \\\n",
        "                                                               -ood_tgt /content/sample.fr \\\n",
        "                                                               -id /content/it/train.en"
      ],
      "metadata": {
        "colab": {
          "base_uri": "https://localhost:8080/"
        },
        "id": "u1fab4ukrEP6",
        "outputId": "a8fc43d4-ac18-41b6-c400-47909407d559"
      },
      "execution_count": null,
      "outputs": [
        {
          "output_type": "stream",
          "name": "stdout",
          "text": [
            "2025-06-13 10:23:56.304768: E external/local_xla/xla/stream_executor/cuda/cuda_fft.cc:477] Unable to register cuFFT factory: Attempting to register factory for plugin cuFFT when one has already been registered\n",
            "WARNING: All log messages before absl::InitializeLog() is called are written to STDERR\n",
            "E0000 00:00:1749810236.533197    6480 cuda_dnn.cc:8310] Unable to register cuDNN factory: Attempting to register factory for plugin cuDNN when one has already been registered\n",
            "E0000 00:00:1749810236.595197    6480 cuda_blas.cc:1418] Unable to register cuBLAS factory: Attempting to register factory for plugin cuBLAS when one has already been registered\n",
            "2025-06-13 10:23:57.067188: I tensorflow/core/platform/cpu_feature_guard.cc:210] This TensorFlow binary is optimized to use available CPU instructions in performance-critical operations.\n",
            "To enable the following instructions: AVX2 AVX512F FMA, in other operations, rebuild TensorFlow with the appropriate compiler flags.\n",
            "Below are the arguments entered ...\n",
            "source-side OOD= /content/sample.en\n",
            "target-side OOD= /content/sample.fr\n",
            "ID= /content/it/train.en\n",
            "K= 5\n",
            "N= None\n",
            "Dissimilar= False\n",
            "FileName= None\n",
            "100% 4000000/4000000 [00:01<00:00, 2312439.22it/s]\n",
            "Source length: 4000000\n",
            "100% 4000000/4000000 [00:01<00:00, 3261594.09it/s]\n",
            "Target length: 4000000\n",
            "Load the model ...\n",
            "modules.json: 100% 358/358 [00:00<00:00, 2.47MB/s]\n",
            "README.md: 100% 112/112 [00:00<00:00, 816kB/s]\n",
            "pytorch_model.bin:   0% 0.00/1.11G [00:00<?, ?B/s]\n",
            "sentence_bert_config.json: 100% 53.0/53.0 [00:00<00:00, 418kB/s]\n",
            "\n",
            "config.json: 100% 765/765 [00:00<00:00, 7.81MB/s]\n",
            "\n",
            "special_tokens_map.json: 100% 150/150 [00:00<00:00, 1.32MB/s]\n",
            "\n",
            "tokenizer_config.json: 100% 538/538 [00:00<00:00, 4.92MB/s]\n",
            "\n",
            "pytorch_model.bin:   2% 21.0M/1.11G [00:01<01:08, 15.9MB/s]\n",
            "sentencepiece.bpe.model: 100% 5.07M/5.07M [00:01<00:00, 3.92MB/s]\n",
            "pytorch_model.bin: 100% 1.11G/1.11G [00:54<00:00, 20.3MB/s]\n",
            "config.json: 100% 190/190 [00:00<00:00, 1.39MB/s]\n",
            "pytorch_model.bin:   0% 0.00/99.3k [00:00<?, ?B/s]\n",
            "config.json: 100% 114/114 [00:00<00:00, 813kB/s]\n",
            "pytorch_model.bin: 100% 99.3k/99.3k [00:00<00:00, 11.1MB/s]\n",
            "2025-06-13 10:25:47.453835: E external/local_xla/xla/stream_executor/cuda/cuda_fft.cc:477] Unable to register cuFFT factory: Attempting to register factory for plugin cuFFT when one has already been registered\n",
            "WARNING: All log messages before absl::InitializeLog() is called are written to STDERR\n",
            "E0000 00:00:1749810347.901153    6975 cuda_dnn.cc:8310] Unable to register cuDNN factory: Attempting to register factory for plugin cuDNN when one has already been registered\n",
            "E0000 00:00:1749810348.024963    6975 cuda_blas.cc:1418] Unable to register cuBLAS factory: Attempting to register factory for plugin cuBLAS when one has already been registered\n"
          ]
        }
      ]
    }
  ]
}